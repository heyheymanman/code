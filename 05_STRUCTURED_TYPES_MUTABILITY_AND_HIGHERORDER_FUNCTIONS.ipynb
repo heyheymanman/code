{
 "cells": [
  {
   "cell_type": "markdown",
   "metadata": {},
   "source": [
    "# 5 STRUCTURED TYPES, MUTABILITY, AND HIGHERORDER FUNCTIONS\n",
    "\n",
    "In this chapter, we introduce three structured types: \n",
    "<ul>\n",
    "<li><b style=\"color:blue\">Tuple</b>, is a rather <b>simple generalization of str</b>. \n",
    "<li>The other two, <b style=\"color:blue\">list and dict</b>, are more interesting — in part because they are <b style=\"color:blue\">mutable</b>.\n",
    "</ul>\n"
   ]
  },
  {
   "cell_type": "markdown",
   "metadata": {},
   "source": [
    "## 5.1 Tuples\n",
    "\n",
    "tuples are <b style=\"color:blue\">ordered sequences</b> of elements. The difference is that the elements of a tuple need not be characters. The individual elements can be of <b style=\"color:blue\">any type</b>, and need <b style=\"color:blue\"> not be of the same type</b> as each other.\n",
    "\n",
    "Literals of type tuple are written by enclosing a <b style=\"color:blue\">comma-separated</b> list of elements <b style=\"color:blue\">within parentheses</b>"
   ]
  },
  {
   "cell_type": "code",
   "execution_count": 1,
   "metadata": {
    "collapsed": false,
    "scrolled": true
   },
   "outputs": [
    {
     "name": "stdout",
     "output_type": "stream",
     "text": [
      "()\n",
      "(1, 'two', 3)\n"
     ]
    }
   ],
   "source": [
    "t1 = () # empty tuple\n",
    "t2 = (1, 'two', 3) #  1 any type; 2 not be of the same type as each other.\n",
    "print(t1)\n",
    "print(t2)"
   ]
  },
  {
   "cell_type": "markdown",
   "metadata": {
    "collapsed": true
   },
   "source": [
    "<hr style=\"color:blue\"/>\n",
    "Since parentheses are used to <b style=\"color:blue\">group expressions</b>, (10) is merely a verbose way to write the integer 10. \n",
    "<p>To denote <b  style=\"color:blue\">the singleton tuple</b> containing this value, we write (10 <strong  style=\"color:red\">,</strong>)"
   ]
  },
  {
   "cell_type": "raw",
   "metadata": {
    "collapsed": false
   },
   "source": [
    "only1=(10)\n",
    "tsingleton=(10,)  # comma-separated \n",
    "\n",
    "print(only1)\n",
    "print(type(only1))\n",
    "\n",
    "print('\\nThe singleton tuple containing this value')\n",
    "print(tsingleton)\n",
    "print(type(tsingleton))"
   ]
  },
  {
   "cell_type": "markdown",
   "metadata": {},
   "source": [
    "<b>Like string</b> ,Tuples can be <b style=\"color:blue\">concatenated</b>, <b style=\"color:blue\">indexed</b>, and <b style=\"color:blue\">sliced</b>.(indexing <strong style=\"color:blue\">starts at 0</strong>)"
   ]
  },
  {
   "cell_type": "code",
   "execution_count": 2,
   "metadata": {
    "collapsed": false
   },
   "outputs": [
    {
     "name": "stdout",
     "output_type": "stream",
     "text": [
      "((1, 'two', 3), 3.25)\n",
      "(1, 'two', 3, (1, 'two', 3), 3.25)\n",
      "(1, 'two', 3)\n",
      "(3, (1, 'two', 3), 3.25)\n"
     ]
    }
   ],
   "source": [
    "t1 = (1, 'two', 3)\n",
    "t2 = (t1, 3.25)   #  any type,tuples can contain tuples\n",
    "print(t2)\n",
    "print(t1 + t2)  # + concatenated\n",
    "print((t1 + t2)[3]) # [3] indexed -tuple as always in Python, indexing starts at 0\n",
    "print((t1 + t2)[2:5]) # [2:5] sliced"
   ]
  },
  {
   "cell_type": "markdown",
   "metadata": {},
   "source": [
    "A <b  style=\"color:blue\">for</b> statement can be used to <b style=\"color:blue\">iterate over the elements</b> of a tuple."
   ]
  },
  {
   "cell_type": "code",
   "execution_count": 3,
   "metadata": {
    "collapsed": false
   },
   "outputs": [
    {
     "name": "stdout",
     "output_type": "stream",
     "text": [
      "common divisors: (1, 2, 4, 5, 10, 20)\n",
      "sum:  42\n"
     ]
    }
   ],
   "source": [
    "def findDivisors (n1, n2):\n",
    "    \"\"\"Assumes that n1 and n2 are positive ints\n",
    "       Returns a tuple containing all common divisors of n1 & n2\"\"\"\n",
    "    \n",
    "    divisors = () #the empty tuple\n",
    "    \n",
    "    for i in range(1, min (n1, n2) + 1):\n",
    "        if n1%i == 0 and n2%i == 0:      # common divisors\n",
    "            divisors = divisors + (i,)  # Note：1) comma-（i,)-Tuple; 2) +  concatenated \n",
    "    \n",
    "    return divisors\n",
    "\n",
    "divisors = findDivisors(20, 100)\n",
    "print('common divisors:',divisors)\n",
    "total = 0\n",
    "for d in divisors:  #  iterate over the elements of a tuple :in \n",
    "    total += d\n",
    "print('sum: ',total)"
   ]
  },
  {
   "cell_type": "markdown",
   "metadata": {},
   "source": [
    "### 5.1.1 Sequences and Multiple Assignment\n",
    "\n",
    "If you know the <b>length of a sequence</b> (e.g., a tuple or a string), it can be convenient to use Python’s <b>multiple assignment</b> statement to extract the individual elements."
   ]
  },
  {
   "cell_type": "code",
   "execution_count": 4,
   "metadata": {
    "collapsed": false
   },
   "outputs": [
    {
     "name": "stdout",
     "output_type": "stream",
     "text": [
      "x= 3  y= 4\n",
      "a= x  b= y  c= z\n"
     ]
    }
   ],
   "source": [
    "x, y = (3, 4)\n",
    "a, b, c = 'xyz'\n",
    "print('x=',x,' y=',y)\n",
    "print('a=',a,' b=',b,' c=',c)"
   ]
  },
  {
   "cell_type": "markdown",
   "metadata": {},
   "source": [
    "This mechanism is particularly convenient when used in <b>conjunction with functions that return fixed-size sequences</b>."
   ]
  },
  {
   "cell_type": "code",
   "execution_count": 6,
   "metadata": {
    "collapsed": true
   },
   "outputs": [],
   "source": [
    "def findExtremeDivisors(n1, n2):\n",
    "    \"\"\"Assumes that n1 and n2 are positive ints\n",
    "       Returns a tuple containing the smallest common\n",
    "       divisor > 1 and the largest common divisor of n1\n",
    "       and n2\n",
    "    \"\"\"\n",
    "    minVal, maxVal = None, None #multiple assignment statement\n",
    "    for i in range(2, min(n1, n2) + 1):\n",
    "        if n1%i == 0 and n2%i == 0:\n",
    "            if minVal == None or i < minVal:\n",
    "                minVal = i\n",
    "            if maxVal == None or i > maxVal:\n",
    "                maxVal = i\n",
    "    return (minVal, maxVal)  #   return fixed-size sequences:tuple"
   ]
  },
  {
   "cell_type": "code",
   "execution_count": 5,
   "metadata": {
    "collapsed": false,
    "scrolled": true
   },
   "outputs": [
    {
     "name": "stdout",
     "output_type": "stream",
     "text": [
      "minDivisor= 2\n",
      "maxDivisor= 100\n"
     ]
    }
   ],
   "source": [
    "# multiple assignment statement conjunction with functions that return fixed-size sequences.\n",
    "minDivisor, maxDivisor = findExtremeDivisors(100, 200)  \n",
    "print('minDivisor=',minDivisor)\n",
    "print('maxDivisor=',maxDivisor)"
   ]
  },
  {
   "cell_type": "code",
   "execution_count": 7,
   "metadata": {
    "collapsed": false
   },
   "outputs": [],
   "source": [
    "def findExtremeDivisors(n1, n2):\n",
    "    \"\"\"Assumes that n1 and n2 are positive ints\n",
    "       Returns a tuple containing the smallest common\n",
    "       divisor > 1 and the largest common divisor of n1\n",
    "       and n2\n",
    "    \"\"\"\n",
    "    minVal, maxVal = None, None #multiple assignment statement\n",
    "    for i in range(2, min(n1, n2) + 1):\n",
    "        if n1%i == 0 and n2%i == 0:\n",
    "            if minVal == None or i < minVal:\n",
    "                minVal = i\n",
    "            if maxVal == None or i > maxVal:\n",
    "                maxVal = i\n",
    "    \n",
    "    divisors = (minVal,maxVal)\n",
    "    return  divisors  #   return fixed-size sequences\n"
   ]
  },
  {
   "cell_type": "code",
   "execution_count": 11,
   "metadata": {
    "collapsed": false
   },
   "outputs": [
    {
     "name": "stdout",
     "output_type": "stream",
     "text": [
      "(2, 100)\n",
      "minDivisor= 2\n",
      "maxDivisor= 100\n"
     ]
    }
   ],
   "source": [
    "# tuple \n",
    "divisors = findExtremeDivisors(100, 200)  \n",
    "print(divisors)\n",
    "print('minDivisor=', divisors[0])\n",
    "print('maxDivisor=', divisors[1])"
   ]
  },
  {
   "cell_type": "markdown",
   "metadata": {},
   "source": [
    "## 5.2 Lists and Mutability\n",
    "\n",
    "A list is an <b>ordered sequence</b> of values, where each value is <b>identified by an index </b>. \n",
    "\n",
    "The syntax for expressing literals of type list is similar to that used for tuples; the difference is that we use <b>square brackets</b> rather than parentheses. \n"
   ]
  },
  {
   "cell_type": "code",
   "execution_count": 5,
   "metadata": {
    "collapsed": false
   },
   "outputs": [
    {
     "name": "stdout",
     "output_type": "stream",
     "text": [
      "I did it all\n",
      "4\n",
      "love\n"
     ]
    }
   ],
   "source": [
    "L = ['I did it all', 4, 'love']  # square brackets\n",
    "for i in range(len(L)):\n",
    "    print(L[i])"
   ]
  },
  {
   "cell_type": "markdown",
   "metadata": {},
   "source": [
    "The <b>empty list</b> is written as <b>[]</b>\n",
    "\n",
    "<p> <b>Singleton lists</b> are written <b>without comma</b> before the closing bracket."
   ]
  },
  {
   "cell_type": "code",
   "execution_count": 6,
   "metadata": {
    "collapsed": false
   },
   "outputs": [
    {
     "name": "stdout",
     "output_type": "stream",
     "text": [
      "empty list: []\n",
      "<class 'list'>\n",
      "[10]\n"
     ]
    }
   ],
   "source": [
    "Lempty=[]   #empty list\n",
    "Lonly1=[10] # singleton list: without comma\n",
    "print('empty list:',Lempty)\n",
    "print(type(Lonly1))\n",
    "print(Lonly1)"
   ]
  },
  {
   "cell_type": "markdown",
   "metadata": {},
   "source": [
    "Square brackets are used for \n",
    "<ol>\n",
    "<li>literals of type list\n",
    "<li>indexing into lists, and\n",
    "<li>slicing lists\n",
    "</ol>\n",
    "<p>can lead to some visual confusion. For example:"
   ]
  },
  {
   "cell_type": "code",
   "execution_count": 7,
   "metadata": {
    "collapsed": false
   },
   "outputs": [
    {
     "data": {
      "text/plain": [
       "3"
      ]
     },
     "execution_count": 7,
     "metadata": {},
     "output_type": "execute_result"
    }
   ],
   "source": [
    "[1,2,3,4]  # list\n",
    "[1,2,3,4][1:3] # slicing list\n",
    "[1,2,3,4][1:3][1] # licing list,then indexing into sliced list"
   ]
  },
  {
   "cell_type": "markdown",
   "metadata": {},
   "source": [
    "<hr style=\"height:2px;color:blue\"/>\n",
    "## lists are mutable\n",
    "\n",
    "<p>Lists differ from tuples in one hugely important way:lists are mutable\n",
    "<p><b>tuples and strings</b> are immutable\n",
    "\n",
    "<p>objects of immutable types cannot be modified.\n",
    "<p>objects of mutable types can be modified after they are created."
   ]
  },
  {
   "cell_type": "markdown",
   "metadata": {
    "collapsed": true
   },
   "source": [
    "The distinction between <b>mutating an object</b> and <b>assigning an object to a variable</b>"
   ]
  },
  {
   "cell_type": "code",
   "execution_count": 8,
   "metadata": {
    "collapsed": false
   },
   "outputs": [],
   "source": [
    "Techs = ['MIT', 'Caltech']\n",
    "Ivys = ['Harvard', 'Yale', 'Brown']"
   ]
  },
  {
   "cell_type": "code",
   "execution_count": 9,
   "metadata": {
    "collapsed": true
   },
   "outputs": [],
   "source": [
    "Univs = [Techs, Ivys]\n",
    "Univs1 = [['MIT', 'Caltech'], ['Harvard', 'Yale', 'Brown']]"
   ]
  },
  {
   "cell_type": "markdown",
   "metadata": {},
   "source": [
    "The three print statements"
   ]
  },
  {
   "cell_type": "code",
   "execution_count": 10,
   "metadata": {
    "collapsed": false
   },
   "outputs": [
    {
     "name": "stdout",
     "output_type": "stream",
     "text": [
      "Univs = [['MIT', 'Caltech'], ['Harvard', 'Yale', 'Brown']]\n",
      "Univs1 = [['MIT', 'Caltech'], ['Harvard', 'Yale', 'Brown']]\n",
      "True\n"
     ]
    }
   ],
   "source": [
    "print('Univs =', Univs) \n",
    "print('Univs1 =', Univs1)\n",
    "print(Univs == Univs1)"
   ]
  },
  {
   "cell_type": "markdown",
   "metadata": {},
   "source": [
    "It appears as if Univs and Univs1 are bound to the same value. But appearances can be deceiving. As the following picture illustrates, Univs and Univs1 are bound to quite different values.\n",
    "<img src=\"./img/fig52.PNG\"/> \n"
   ]
  },
  {
   "cell_type": "markdown",
   "metadata": {},
   "source": [
    "That Univs and Univs1 are bound to different objects can be verified using the built-in Python function <b style=\"color:blue\">id</b>, which <b style=\"color:blue\">returns a unique integer identifier</b> for an object. \n",
    "<p>This function allows us to <b>test for object equality</b>."
   ]
  },
  {
   "cell_type": "code",
   "execution_count": 11,
   "metadata": {
    "collapsed": false
   },
   "outputs": [
    {
     "name": "stdout",
     "output_type": "stream",
     "text": [
      "True\n",
      "False\n",
      "Id of Univs = 69771208\n",
      "Id of Univs1 = 69769672\n"
     ]
    }
   ],
   "source": [
    "print(Univs == Univs1) # test value equality\n",
    "print(id(Univs) == id(Univs1)) #test object equality\n",
    "print('Id of Univs =', id(Univs))\n",
    "print('Id of Univs1 =', id(Univs1))"
   ]
  },
  {
   "cell_type": "markdown",
   "metadata": {},
   "source": [
    "The <b>elements of Univs</b> are <b>not copies of the lists</b> to which Techs and Ivys are bound, but are rather the <b> themselves</b>.\n",
    "<p>The <b>elements of Univs1</b> are lists that contain <b>the same elements</b> as the lists in Univs,but they are <b>not the same lists</b>."
   ]
  },
  {
   "cell_type": "code",
   "execution_count": 22,
   "metadata": {
    "collapsed": false
   },
   "outputs": [
    {
     "name": "stdout",
     "output_type": "stream",
     "text": [
      "Ids of Techs, Univs[0] 92405576 92405576\n",
      "Ids of Ivys, Univs[1] 15388616 15388616\n",
      "Ids of Univs[0] and Univs[1] 92405576 15388616\n",
      "Ids of Univs1[0] and Univs1[1] 15421512 92464584\n"
     ]
    }
   ],
   "source": [
    "print('Ids of Techs, Univs[0]', id(Techs), id(Univs[0]))\n",
    "print('Ids of Ivys, Univs[1]', id(Ivys), id(Univs[1]))\n",
    "print('Ids of Univs[0] and Univs[1]', id(Univs[0]), id(Univs[1]))\n",
    "print('Ids of Univs1[0] and Univs1[1]', id(Univs1[0]), id(Univs1[1]))"
   ]
  },
  {
   "cell_type": "markdown",
   "metadata": {},
   "source": [
    "### Why does this matter? It matters because lists are mutable"
   ]
  },
  {
   "cell_type": "code",
   "execution_count": 12,
   "metadata": {
    "collapsed": true
   },
   "outputs": [],
   "source": [
    "Techs.append('RPI') #through the variable Techs "
   ]
  },
  {
   "cell_type": "markdown",
   "metadata": {
    "collapsed": true
   },
   "source": [
    "The append method has a side effect. Rather than create a new list, it <b>mutates the existing list Techs</b> by adding a new element, the string 'RPI', to the end of it.\n",
    "<img src=\"./img/fig53.PNG\"/> \n"
   ]
  },
  {
   "cell_type": "markdown",
   "metadata": {},
   "source": [
    "Univs still contains the same two lists, but the contents of one of those lists has been changed"
   ]
  },
  {
   "cell_type": "code",
   "execution_count": 24,
   "metadata": {
    "collapsed": false
   },
   "outputs": [
    {
     "name": "stdout",
     "output_type": "stream",
     "text": [
      "Univs = [['MIT', 'Caltech', 'RPI'], ['Harvard', 'Yale', 'Brown']]\n",
      "Univs1 = [['MIT', 'Caltech'], ['Harvard', 'Yale', 'Brown']]\n"
     ]
    }
   ],
   "source": [
    "print('Univs =', Univs)\n",
    "print('Univs1 =', Univs1)"
   ]
  },
  {
   "cell_type": "markdown",
   "metadata": {},
   "source": [
    "What we have here is something called aliasing. \n",
    "There are two distinct paths to the same list object.\n",
    "<p>One path is through the variable Techs and\n",
    "<p>the other through the first element of the list object to which Univs is bound. \n",
    "\n",
    "<p>One can mutate the object via either path, and the effect of the mutation will be visible through both paths. \n",
    "\n",
    "<p> This can be convenient, but it can also be treacherous. Unintentional aliasing leads to programming errors that are often enormously hard to track down."
   ]
  },
  {
   "cell_type": "code",
   "execution_count": 13,
   "metadata": {
    "collapsed": false
   },
   "outputs": [
    {
     "name": "stdout",
     "output_type": "stream",
     "text": [
      "Techs = ['MIT', 'Caltech', 'RPI', 'SEU']\n",
      "Ivys= ['Harvard', 'Yale', 'Brown', 'Cornell']\n",
      "Univs = [['MIT', 'Caltech', 'RPI', 'SEU'], ['Harvard', 'Yale', 'Brown', 'Cornell']]\n"
     ]
    }
   ],
   "source": [
    "Univs[0].append('SEU') # through the i element of  Univs \n",
    "Univs[1].append('Cornell')\n",
    "print('Techs =', Techs)\n",
    "print('Ivys=', Ivys)\n",
    "print('Univs =', Univs)"
   ]
  },
  {
   "cell_type": "markdown",
   "metadata": {},
   "source": [
    "<h4> a for statement can be used to iterate over the elements of a list.</h4>"
   ]
  },
  {
   "cell_type": "code",
   "execution_count": 14,
   "metadata": {
    "collapsed": false
   },
   "outputs": [
    {
     "name": "stdout",
     "output_type": "stream",
     "text": [
      "Univs contains ['MIT', 'Caltech', 'RPI', 'SEU']\n",
      "   which contains\n",
      "     MIT\n",
      "     Caltech\n",
      "     RPI\n",
      "     SEU\n",
      "Univs contains ['Harvard', 'Yale', 'Brown', 'Cornell']\n",
      "   which contains\n",
      "     Harvard\n",
      "     Yale\n",
      "     Brown\n",
      "     Cornell\n"
     ]
    }
   ],
   "source": [
    "for e in Univs:\n",
    "    print('Univs contains', e) # list \n",
    "    print('   which contains')\n",
    "    for u in e:\n",
    "        print('    ', u)   # the elements of a list."
   ]
  },
  {
   "cell_type": "markdown",
   "metadata": {
    "collapsed": true
   },
   "source": [
    "### append VS concatenation or extend"
   ]
  },
  {
   "cell_type": "code",
   "execution_count": 19,
   "metadata": {
    "collapsed": false
   },
   "outputs": [
    {
     "name": "stdout",
     "output_type": "stream",
     "text": [
      "L3 = [1, 2, 3, 4, 5, 6]\n",
      "L1 = [1, 2, 3, 4, 5, 6]\n",
      "L1 = [1, 2, 3, 4, 5, 6, [4, 5, 6]]\n"
     ]
    }
   ],
   "source": [
    "L1 = [1,2,3]\n",
    "L2 = [4,5,6]\n",
    "L3 = L1 + L2\n",
    "print('L3 =', L3)\n",
    "L1.extend(L2)\n",
    "print('L1 =', L1)\n",
    "L1.append(L2)\n",
    "print('L1 =', L1)"
   ]
  },
  {
   "cell_type": "markdown",
   "metadata": {},
   "source": [
    "Notice that\n",
    "<p>the operator + does not have a side effect. It creates a new list and returns it. \n",
    "<p>In contrast, extend and append each mutated L1. \n"
   ]
  },
  {
   "cell_type": "markdown",
   "metadata": {},
   "source": [
    "Figure 5.4 contains short descriptions of some of the methods associated with lists. Note that all of these except count and index mutate the list.\n",
    "<img src=\"./img/fig54.PNG\"/> "
   ]
  },
  {
   "cell_type": "markdown",
   "metadata": {},
   "source": [
    "## 5.2.1 Cloning\n",
    "\n",
    "Though allowed, it is usually prudent to <b>avoid mutating a list over which one is iterating</b>."
   ]
  },
  {
   "cell_type": "code",
   "execution_count": 20,
   "metadata": {
    "collapsed": false
   },
   "outputs": [
    {
     "name": "stdout",
     "output_type": "stream",
     "text": [
      "4\n",
      "L1= [1, 2, 3, 4]\n",
      "3\n",
      "L1= [2, 3, 4]\n",
      "3\n",
      "L1= [2, 3, 4]\n",
      "\n",
      " removeDups L1 = [2, 3, 4]\n"
     ]
    }
   ],
   "source": [
    "#Page 63-64\n",
    "def removeDups(L1, L2):\n",
    "    \"\"\"Assumes that L1 and L2 are lists.\n",
    "       Removes any element from L1 that also occurs in L2\"\"\"\n",
    "    for e1 in L1:\n",
    "        \n",
    "        print(len(L1))  # display mutation\n",
    "        print('L1=',L1)\n",
    "        \n",
    "        if e1 in L2:\n",
    "            L1.remove(e1)\n",
    "\n",
    "L1 = [1,2,3,4]\n",
    "L2 = [1,2,5,6]\n",
    "removeDups(L1, L2)\n",
    "print('\\n removeDups L1 =', L1)"
   ]
  },
  {
   "cell_type": "markdown",
   "metadata": {},
   "source": [
    "1 One way to <b>avoid this kind of problem is to use slicing to clone</b> (i.e., make a copy of) the list and write for e1 in L1[:]."
   ]
  },
  {
   "cell_type": "code",
   "execution_count": 21,
   "metadata": {
    "collapsed": false
   },
   "outputs": [
    {
     "name": "stdout",
     "output_type": "stream",
     "text": [
      "4\n",
      "L1= [1, 2, 3, 4]\n",
      "3\n",
      "L1= [2, 3, 4]\n",
      "2\n",
      "L1= [3, 4]\n",
      "2\n",
      "L1= [3, 4]\n",
      "\n",
      " removeDups L1 = [3, 4]\n"
     ]
    }
   ],
   "source": [
    "#Page 63-64\n",
    "def removeDups(L1, L2):\n",
    "    \"\"\"Assumes that L1 and L2 are lists.\n",
    "       Removes any element from L1 that also occurs in L2\"\"\"\n",
    " \n",
    "    for e1 in L1[:]: # use slicing to clone\n",
    "        \n",
    "        print(len(L1))  # display mutation\n",
    "        print('L1=',L1)\n",
    "        \n",
    "        if e1 in L2:\n",
    "            L1.remove(e1)\n",
    "\n",
    "L1 = [1,2,3,4]\n",
    "L2 = [1,2,5,6]\n",
    "removeDups(L1, L2)\n",
    "print('\\n removeDups L1 =', L1)"
   ]
  },
  {
   "cell_type": "markdown",
   "metadata": {},
   "source": [
    "<b>newL1 = L1</b> merely have introduced <b>a new name for L1</b>"
   ]
  },
  {
   "cell_type": "code",
   "execution_count": 7,
   "metadata": {
    "collapsed": false
   },
   "outputs": [
    {
     "name": "stdout",
     "output_type": "stream",
     "text": [
      "4\n",
      "L1= [1, 2, 3, 4]\n",
      "3\n",
      "L1= [2, 3, 4]\n",
      "3\n",
      "L1= [2, 3, 4]\n",
      "\n",
      " removeDups L1 = [2, 3, 4]\n"
     ]
    }
   ],
   "source": [
    "#Page 63-64\n",
    "def removeDups(L1, L2):\n",
    "    \"\"\"Assumes that L1 and L2 are lists.\n",
    "       Removes any element from L1 that also occurs in L2\"\"\"\n",
    "    \n",
    "    newL1=L1  # Assignment statements in Python do not copy objects, \n",
    "              # they create bindings between a target and an object.\n",
    "    \n",
    "    for e1 in newL1:\n",
    "        \n",
    "        print(len(L1))  # display mutation\n",
    "        print('L1=',L1)\n",
    "        \n",
    "        if e1 in L2:\n",
    "            L1.remove(e1)\n",
    "\n",
    "L1 = [1,2,3,4]\n",
    "L2 = [1,2,5,6]\n",
    "removeDups(L1, L2)\n",
    "print('\\n removeDups L1 =', L1)"
   ]
  },
  {
   "cell_type": "markdown",
   "metadata": {},
   "source": [
    "2 The expression <b>list(l)</b> returns a copy of the list l. "
   ]
  },
  {
   "cell_type": "code",
   "execution_count": 14,
   "metadata": {
    "collapsed": false
   },
   "outputs": [
    {
     "name": "stdout",
     "output_type": "stream",
     "text": [
      "4\n",
      "L1= [1, 2, 3, 4]\n",
      "3\n",
      "L1= [2, 3, 4]\n",
      "2\n",
      "L1= [3, 4]\n",
      "2\n",
      "L1= [3, 4]\n",
      "\n",
      " removeDups L1 = [3, 4]\n"
     ]
    }
   ],
   "source": [
    "#Page 63-64\n",
    "def removeDups(L1, L2):\n",
    "    \"\"\"Assumes that L1 and L2 are lists.\n",
    "       Removes any element from L1 that also occurs in L2\"\"\"\n",
    "    \n",
    "    newL1=list(L1)  # a copy of the list L1\n",
    "    \n",
    "    for e1 in newL1:\n",
    "        \n",
    "        print(len(L1))  # display mutation\n",
    "        print('L1=',L1)\n",
    "        \n",
    "        if e1 in L2:\n",
    "            L1.remove(e1)\n",
    "\n",
    "L1 = [1,2,3,4]\n",
    "L2 = [1,2,5,6]\n",
    "removeDups(L1, L2)\n",
    "print('\\n removeDups L1 =', L1)"
   ]
  },
  {
   "cell_type": "markdown",
   "metadata": {},
   "source": [
    "3 If the list to be copied <b>contains mutable objects </b> that you want to <b>copy</b> as well, import the standard library <b>module</b> copy and use the function <b>copy.deepcopy</b>\n",
    "\n",
    "<p><b>Reference:</b>\n",
    "<p><b>1 Python 8.10 copy — Shallow and deep copy operations</b>\n",
    "\n",
    "<p><b>Assignment statements in Python do not copy objects, they create bindings between a target and an object.</b>\n",
    "<p>For collections that are mutable or contain mutable items, a copy is sometimes needed so one can change one copy\n",
    "without changing the other. This module provides generic shallow and deep copy operations (explained below).\n",
    "<p>Interface summary:\n",
    "<ul>\n",
    "<li>copy.copy(x): Return a shallow copy of x.\n",
    "<li>copy.deepcopy(x): Return a deep copy of x.\n",
    "</ul>\n",
    "\n",
    "<p><b>2. The Python Standard Library by Example 2.8 copy—Duplicate Objects"
   ]
  },
  {
   "cell_type": "code",
   "execution_count": 5,
   "metadata": {
    "collapsed": false
   },
   "outputs": [
    {
     "name": "stdout",
     "output_type": "stream",
     "text": [
      "4\n",
      "L1= [1, 2, 3, 4]\n",
      "3\n",
      "L1= [2, 3, 4]\n",
      "2\n",
      "L1= [3, 4]\n",
      "2\n",
      "L1= [3, 4]\n",
      "\n",
      " removeDups L1 = [3, 4]\n"
     ]
    }
   ],
   "source": [
    "#Page 63-64\n",
    "import copy\n",
    "\n",
    "def removeDups(L1, L2):\n",
    "    \"\"\"Assumes that L1 and L2 are lists.\n",
    "       Removes any element from L1 that also occurs in L2\"\"\"\n",
    "    \n",
    "    newL1=copy.deepcopy(L1)  # a copy of the list L1\n",
    "    \n",
    "    for e1 in newL1:\n",
    "        \n",
    "        print(len(L1))  # display mutation\n",
    "        print('L1=',L1)\n",
    "        \n",
    "        if e1 in L2:\n",
    "            L1.remove(e1)\n",
    "\n",
    "L1 = [1,2,3,4]\n",
    "L2 = [1,2,5,6]\n",
    "removeDups(L1, L2)\n",
    "print('\\n removeDups L1 =', L1)"
   ]
  },
  {
   "cell_type": "markdown",
   "metadata": {},
   "source": [
    "<h3>Cloning Methods:</h3>\n",
    "<ol>\n",
    "<li>slicing：L1[:]\n",
    "<li>List(L1)\n",
    "<li>copy.copy(L1),copy.deepcopy(L1)\n",
    "</ol>"
   ]
  },
  {
   "cell_type": "markdown",
   "metadata": {},
   "source": [
    "### 5.2.2 List Comprehension\n",
    "\n",
    "List comprehension provides a concise way to apply an operation to the values in a sequence.\n",
    "\n",
    "It creates a new list in which each element is the result of applying a given operation to a value from a sequence "
   ]
  },
  {
   "cell_type": "code",
   "execution_count": 1,
   "metadata": {
    "collapsed": false
   },
   "outputs": [
    {
     "name": "stdout",
     "output_type": "stream",
     "text": [
      "[1, 4, 9, 16, 25, 36]\n"
     ]
    }
   ],
   "source": [
    "L = [x**2 for x in range(1,7)]\n",
    "print(L)"
   ]
  },
  {
   "cell_type": "markdown",
   "metadata": {},
   "source": [
    "The for clause in a list comprehension can be <b>followed</b>by one or more <b>if and for</b> statements that are applied to the values produced by the for clause."
   ]
  },
  {
   "cell_type": "code",
   "execution_count": 1,
   "metadata": {
    "collapsed": false
   },
   "outputs": [
    {
     "name": "stdout",
     "output_type": "stream",
     "text": [
      "[1, 4, 9]\n"
     ]
    }
   ],
   "source": [
    "mixed = [1, 2, 'a', 3, 4.0]\n",
    "print([x**2 for x in mixed if type(x) == int])"
   ]
  },
  {
   "cell_type": "code",
   "execution_count": 5,
   "metadata": {
    "collapsed": false
   },
   "outputs": [
    {
     "name": "stdout",
     "output_type": "stream",
     "text": [
      "[1, 2, 3, 2, 4, 6, 3, 6, 9]\n"
     ]
    }
   ],
   "source": [
    "print([x*y for x in [1,2,3] for y in  [1,2,3]])"
   ]
  },
  {
   "cell_type": "markdown",
   "metadata": {},
   "source": [
    "Remember that somebody else may need to read your code, and <b>“subtle” is not usually a desirable property </b>"
   ]
  },
  {
   "cell_type": "markdown",
   "metadata": {},
   "source": [
    "<b>Reference： Python Tutorial</b>\n",
    "\n",
    "5.1.3 List Comprehensions\n",
    "\n",
    "5.1.4 Nested List Comprehensions\n"
   ]
  },
  {
   "cell_type": "markdown",
   "metadata": {},
   "source": [
    "## 5.3 Functions as Objects\n",
    "\n",
    "In Python, functions are first-class objects"
   ]
  },
  {
   "cell_type": "code",
   "execution_count": 7,
   "metadata": {
    "collapsed": false
   },
   "outputs": [
    {
     "data": {
      "text/plain": [
       "builtin_function_or_method"
      ]
     },
     "execution_count": 7,
     "metadata": {},
     "output_type": "execute_result"
    }
   ],
   "source": [
    "type(abs)"
   ]
  },
  {
   "cell_type": "code",
   "execution_count": 6,
   "metadata": {
    "collapsed": false
   },
   "outputs": [
    {
     "ename": "NameError",
     "evalue": "name 'removeDups' is not defined",
     "output_type": "error",
     "traceback": [
      "\u001b[1;31m---------------------------------------------------------------------------\u001b[0m",
      "\u001b[1;31mNameError\u001b[0m                                 Traceback (most recent call last)",
      "\u001b[1;32m<ipython-input-6-b71a1bc5e531>\u001b[0m in \u001b[0;36m<module>\u001b[1;34m()\u001b[0m\n\u001b[1;32m----> 1\u001b[1;33m \u001b[0mtype\u001b[0m\u001b[1;33m(\u001b[0m\u001b[0mremoveDups\u001b[0m\u001b[1;33m)\u001b[0m\u001b[1;33m\u001b[0m\u001b[0m\n\u001b[0m",
      "\u001b[1;31mNameError\u001b[0m: name 'removeDups' is not defined"
     ]
    }
   ],
   "source": [
    "type(removeDups)"
   ]
  },
  {
   "cell_type": "markdown",
   "metadata": {},
   "source": [
    "Using functions as arguments can be particularly convenient in conjunction with lists. \n",
    "\n",
    "It allows a style of coding called <b>higher-order programming</b>"
   ]
  },
  {
   "cell_type": "code",
   "execution_count": 8,
   "metadata": {
    "collapsed": false
   },
   "outputs": [
    {
     "ename": "ImportError",
     "evalue": "No module named 'functionsFromChapter4'",
     "output_type": "error",
     "traceback": [
      "\u001b[1;31m---------------------------------------------------------------------------\u001b[0m",
      "\u001b[1;31mImportError\u001b[0m                               Traceback (most recent call last)",
      "\u001b[1;32m<ipython-input-8-bc78a4a92458>\u001b[0m in \u001b[0;36m<module>\u001b[1;34m()\u001b[0m\n\u001b[0;32m      1\u001b[0m \u001b[1;31m#Page 64, Figure 5.5\u001b[0m\u001b[1;33m\u001b[0m\u001b[1;33m\u001b[0m\u001b[0m\n\u001b[0;32m      2\u001b[0m \u001b[1;33m\u001b[0m\u001b[0m\n\u001b[1;32m----> 3\u001b[1;33m \u001b[1;32mfrom\u001b[0m \u001b[0mfunctionsFromChapter4\u001b[0m \u001b[1;32mimport\u001b[0m \u001b[1;33m*\u001b[0m\u001b[1;33m\u001b[0m\u001b[0m\n\u001b[0m\u001b[0;32m      4\u001b[0m \u001b[1;33m\u001b[0m\u001b[0m\n\u001b[0;32m      5\u001b[0m \u001b[1;32mdef\u001b[0m \u001b[0mapplyToEach\u001b[0m\u001b[1;33m(\u001b[0m\u001b[0mL\u001b[0m\u001b[1;33m,\u001b[0m \u001b[0mf\u001b[0m\u001b[1;33m)\u001b[0m\u001b[1;33m:\u001b[0m\u001b[1;33m\u001b[0m\u001b[0m\n",
      "\u001b[1;31mImportError\u001b[0m: No module named 'functionsFromChapter4'"
     ]
    }
   ],
   "source": [
    "#Page 64, Figure 5.5\n",
    "\n",
    "from functionsFromChapter4 import *\n",
    "\n",
    "def applyToEach(L, f):\n",
    "    \"\"\"Assumes L is a list, f a function\n",
    "      Mutates L by replacing each element, e, of L by f(e)\"\"\"\n",
    "    for i in range(len(L)):\n",
    "        L[i] = f(L[i])\n",
    "      \n",
    "L = [1, -2, 3.33]\n",
    "print('L =', L)\n",
    "print('\\nApply abs to each element of L.')\n",
    "applyToEach(L, abs)\n",
    "print('L =', L)\n",
    "\n",
    "print('\\nApply int to each element of', L)\n",
    "applyToEach(L, int)\n",
    "print('L =', L)\n",
    "\n",
    "print('\\nApply factorial to each element of', L)\n",
    "applyToEach(L, factR)\n",
    "print('L =', L)\n",
    "\n",
    "print('\\nApply Fibonnaci to each element of', L)\n",
    "applyToEach(L, fib)\n",
    "print('L =', L)"
   ]
  },
  {
   "cell_type": "markdown",
   "metadata": {},
   "source": [
    "Python has a built-in higher-order function, <b>map</b>"
   ]
  },
  {
   "cell_type": "markdown",
   "metadata": {},
   "source": [
    "In its simplest form the first argument to map is a unary function (i.e., a function that has only\n",
    "one parameter) and the second argument is any ordered collection of values\n",
    "suitable as arguments to the first argument."
   ]
  },
  {
   "cell_type": "code",
   "execution_count": 9,
   "metadata": {
    "collapsed": false
   },
   "outputs": [
    {
     "ename": "NameError",
     "evalue": "name 'factR' is not defined",
     "output_type": "error",
     "traceback": [
      "\u001b[1;31m---------------------------------------------------------------------------\u001b[0m",
      "\u001b[1;31mNameError\u001b[0m                                 Traceback (most recent call last)",
      "\u001b[1;32m<ipython-input-9-0fbab1a8c8d9>\u001b[0m in \u001b[0;36m<module>\u001b[1;34m()\u001b[0m\n\u001b[1;32m----> 1\u001b[1;33m \u001b[0mlist\u001b[0m\u001b[1;33m(\u001b[0m\u001b[0mmap\u001b[0m\u001b[1;33m(\u001b[0m\u001b[0mfactR\u001b[0m\u001b[1;33m,\u001b[0m \u001b[1;33m[\u001b[0m\u001b[1;36m1\u001b[0m\u001b[1;33m,\u001b[0m \u001b[1;36m2\u001b[0m\u001b[1;33m,\u001b[0m \u001b[1;36m3\u001b[0m\u001b[1;33m]\u001b[0m\u001b[1;33m)\u001b[0m\u001b[1;33m)\u001b[0m\u001b[1;33m\u001b[0m\u001b[0m\n\u001b[0m",
      "\u001b[1;31mNameError\u001b[0m: name 'factR' is not defined"
     ]
    }
   ],
   "source": [
    "list(map(factR, [1, 2, 3]))"
   ]
  },
  {
   "cell_type": "markdown",
   "metadata": {},
   "source": [
    "More generally, the first argument to map can be of function of n arguments, in\n",
    "which case it must be followed by n subsequent ordered collections"
   ]
  },
  {
   "cell_type": "code",
   "execution_count": 23,
   "metadata": {
    "collapsed": false
   },
   "outputs": [
    {
     "name": "stdout",
     "output_type": "stream",
     "text": [
      "<map object at 0x0000000000B84390>\n",
      "[1, 28, 9]\n"
     ]
    }
   ],
   "source": [
    "#Page 64\n",
    "L1 = [1, 28, 36]\n",
    "L2 = [2, 57, 9]\n",
    "print(map(min, L1, L2))\n",
    "print(list(map(min, L1, L2)))"
   ]
  },
  {
   "cell_type": "markdown",
   "metadata": {},
   "source": [
    "<p>Python Library P13:<b> map(function, iterable, ...)</b>\n",
    "<p>Return an iterator that applies function to every item of iterable, yielding the results. If additional iterable\n",
    "arguments are passed, function must take that many arguments and is applied to the items from all iterables\n",
    "in parallel. With multiple iterables, the iterator stops when the shortest iterable is exhausted.\n",
    "<p>Python Library P14: <b> \n",
    "min(iterable, *[, key, default ])\n",
    "min(arg1, arg2, *args[, key ])</b> \n",
    "<p>\n",
    "Return the smallest item in <b>an iterable</b> or the smallest of <b>two or more arguments</b>"
   ]
  },
  {
   "cell_type": "markdown",
   "metadata": {
    "collapsed": true
   },
   "source": [
    "## 5.4 Strings, Tuples, and Lists\n",
    "\n",
    "We have looked at three different <b>sequence</b> types: str, tuple, and list.\n",
    "<p>Common operations on sequence types\n",
    "<img src=\"./img/fig56.PNG\"/>\n",
    "<p>Some of their other similarities and differences are summarized in Figure 5.7.\n",
    "<img src=\"./img/fig57.PNG\"/>\n",
    "<p>Python programmers tend to use <b>lists far more often</b> than tuples. Since lists are mutable, they can be constructed incrementally during a computation."
   ]
  },
  {
   "cell_type": "code",
   "execution_count": 11,
   "metadata": {
    "collapsed": false
   },
   "outputs": [
    {
     "name": "stdout",
     "output_type": "stream",
     "text": [
      "[-2]\n"
     ]
    }
   ],
   "source": [
    "#Page 66\n",
    "L=[1, -2, 3.33]\n",
    "evenElems = []\n",
    "for e in L:\n",
    "    if e%2 == 0:\n",
    "        evenElems.append(e)\n",
    "        \n",
    "print(evenElems)"
   ]
  },
  {
   "cell_type": "markdown",
   "metadata": {},
   "source": [
    "One advantage of tuples is that because they are immutable, aliasing is never a worry. \n",
    "<p>Another advantage of their being immutable is that tuples, unlike lists, can be used as<b> keys in dictionaries</b>"
   ]
  },
  {
   "cell_type": "markdown",
   "metadata": {},
   "source": [
    "<hr style=\"height:1px;color:blue\"/>\n",
    "Since strings can contain only characters, \n",
    "\n",
    "there are many built-in methods that make life easy\n",
    "\n",
    "Keep in mind that since strings are immutable these all return values and have no side effect.\n",
    "<p>\n",
    "<img src=\"./img/fig58.PNG\"/>"
   ]
  },
  {
   "cell_type": "code",
   "execution_count": 12,
   "metadata": {
    "collapsed": false
   },
   "outputs": [
    {
     "data": {
      "text/plain": [
       "0"
      ]
     },
     "execution_count": 12,
     "metadata": {},
     "output_type": "execute_result"
    }
   ],
   "source": [
    "s='David Guttag plays basketball David'\n",
    "s.find('David')"
   ]
  },
  {
   "cell_type": "code",
   "execution_count": 35,
   "metadata": {
    "collapsed": false
   },
   "outputs": [
    {
     "data": {
      "text/plain": [
       "30"
      ]
     },
     "execution_count": 35,
     "metadata": {},
     "output_type": "execute_result"
    }
   ],
   "source": [
    "s.rfind('David')"
   ]
  },
  {
   "cell_type": "code",
   "execution_count": 13,
   "metadata": {
    "collapsed": false
   },
   "outputs": [
    {
     "data": {
      "text/plain": [
       "'David Guttag plays basketball'"
      ]
     },
     "execution_count": 13,
     "metadata": {},
     "output_type": "execute_result"
    }
   ],
   "source": [
    "s='David Guttag plays basketball     '\n",
    "s.rstrip()"
   ]
  },
  {
   "cell_type": "code",
   "execution_count": 14,
   "metadata": {
    "collapsed": false
   },
   "outputs": [
    {
     "data": {
      "text/plain": [
       "['David', 'Guttag', 'plays', 'basketball']"
      ]
     },
     "execution_count": 14,
     "metadata": {},
     "output_type": "execute_result"
    }
   ],
   "source": [
    "s='David*Guttag*plays*basketball'\n",
    "s.split('*')"
   ]
  },
  {
   "cell_type": "code",
   "execution_count": 15,
   "metadata": {
    "collapsed": false
   },
   "outputs": [
    {
     "data": {
      "text/plain": [
       "'David*Guttag*plays*basketball'"
      ]
     },
     "execution_count": 15,
     "metadata": {},
     "output_type": "execute_result"
    }
   ],
   "source": [
    "s"
   ]
  },
  {
   "cell_type": "code",
   "execution_count": 12,
   "metadata": {
    "collapsed": false
   },
   "outputs": [
    {
     "data": {
      "text/plain": [
       "'David Guttag plays basketball'"
      ]
     },
     "execution_count": 12,
     "metadata": {},
     "output_type": "execute_result"
    }
   ],
   "source": [
    "s='David Guttag plays basketball'\n",
    "s.split()"
   ]
  },
  {
   "cell_type": "code",
   "execution_count": 16,
   "metadata": {
    "collapsed": false
   },
   "outputs": [
    {
     "data": {
      "text/plain": [
       "'David*Guttag*plays*basketball'"
      ]
     },
     "execution_count": 16,
     "metadata": {},
     "output_type": "execute_result"
    }
   ],
   "source": [
    "s"
   ]
  },
  {
   "cell_type": "markdown",
   "metadata": {},
   "source": [
    "<hr style=\"height:2px;color:blue\"/>\n",
    "## 5.5 Dictionaries\n",
    "Think of a dictionary as a set of <b>key/value</b> pairs. Literals of type dict are enclosed in  <b style=\"color:blue\">curly braces</b>, and each element is written as a key followed by a colon followed by a value.\n",
    "\n",
    "<p>Keys can be values of <b>any immutable type</b>.\n",
    "<p>The entries in a dict are <b>unordered</b> and cannot be accessed with an index"
   ]
  },
  {
   "cell_type": "code",
   "execution_count": 21,
   "metadata": {
    "collapsed": false
   },
   "outputs": [
    {
     "name": "stdout",
     "output_type": "stream",
     "text": [
      "The third month is Mar \n",
      "\n",
      "The third month is  3 \n",
      "\n",
      "Apr and Jan are 3 months apart\n"
     ]
    }
   ],
   "source": [
    "monthNumbers = {'Jan':1, 'Feb':2, 'Mar':3, 'Apr':4, 'May':5,\n",
    "1:'Jan', 2:'Feb', 3:'Mar', 4:'Apr', 5:'May'}\n",
    "\n",
    "# The entries in a dict are unordered and cannot be accessed with an index\n",
    "print('The third month is ' + monthNumbers[3],'\\n')\n",
    "print('The Mar month is ', monthNumbers['Mar'],'\\n') # 自己写的  print('The third month is ' + monthNumbers[3],'\\n')  则运行错误 \n",
    "\n",
    "\n",
    "dist = monthNumbers['Apr'] - monthNumbers['Jan'] # get value from key\n",
    "print('Apr and Jan are', dist, 'months apart')"
   ]
  },
  {
   "cell_type": "markdown",
   "metadata": {},
   "source": [
    "The method <b>keys</b> returns a list containing the keys of a dictionary. "
   ]
  },
  {
   "cell_type": "code",
   "execution_count": 15,
   "metadata": {
    "collapsed": false
   },
   "outputs": [
    {
     "name": "stdout",
     "output_type": "stream",
     "text": [
      "dict_keys([1, 2, 3, 'Apr', 'May', 'Jan', 'Feb', 5, 4, 'Mar'])\n"
     ]
    }
   ],
   "source": [
    "print(monthNumbers.keys()) # The order in which the keys appear is not defined."
   ]
  },
  {
   "cell_type": "markdown",
   "metadata": {},
   "source": [
    "When a <b>for statement</b> is used to iterate over a dictionary, the value assigned to the iteration variable is a <b>key</b>, not a key/value pair."
   ]
  },
  {
   "cell_type": "code",
   "execution_count": 24,
   "metadata": {
    "collapsed": false
   },
   "outputs": [
    {
     "name": "stdout",
     "output_type": "stream",
     "text": [
      "[1, 2, 3, 'Apr', 'May', 'Jan', 'Feb', 5, 4, 'Mar']\n"
     ]
    }
   ],
   "source": [
    "keys = []\n",
    "for e in monthNumbers:\n",
    "    keys.append(e) # the value s a key， not a key/value pair.\n",
    "print(keys)"
   ]
  },
  {
   "cell_type": "code",
   "execution_count": 2,
   "metadata": {
    "collapsed": false
   },
   "outputs": [
    {
     "name": "stdout",
     "output_type": "stream",
     "text": [
      "['Mar', 2, 3, 1, 5, 'Feb', 'May', 4, 'Jan', 'Apr']\n"
     ]
    }
   ],
   "source": [
    "keys = []\n",
    "for e in monthNumbers:\n",
    "    keys.append(e) # the value s a key， not a key/value pair.\n",
    "#keys.sort()     #python3 不能执行，和书中不同，两种不同类型了，怎么排序？ unorderable types: str() < int()\n",
    "print(keys)"
   ]
  },
  {
   "cell_type": "markdown",
   "metadata": {
    "collapsed": true
   },
   "source": [
    "<h3>Dictionaries are one of  <b style=\"color:blue\">the great things</b> about Python. They  <b style=\"color:blue\">greatly reduce </b> the difficulty of writing a variety of programs.</h3>"
   ]
  },
  {
   "cell_type": "code",
   "execution_count": 3,
   "metadata": {
    "collapsed": false
   },
   "outputs": [
    {
     "name": "stdout",
     "output_type": "stream",
     "text": [
      "Je bois \"good\" rouge vin, et mange pain. \n",
      "I drink of wine red. \n"
     ]
    }
   ],
   "source": [
    "#Page 68, Figure 5.9\n",
    "\n",
    "EtoF = {'bread':'pain', 'wine':'vin', 'with':'avec', 'I':'Je',\n",
    "        'eat':'mange', 'drink':'bois', 'John':'Jean',\n",
    "        'friends':'amis', 'and': 'et', 'of':'du','red':'rouge'}\n",
    "FtoE = {'pain':'bread', 'vin':'wine', 'avec':'with', 'Je':'I',\n",
    "        'mange':'eat', 'bois':'drink', 'Jean':'John',\n",
    "        'amis':'friends', 'et':'and', 'du':'of', 'rouge':'red'}\n",
    "dicts = {'English to French':EtoF, 'French to English':FtoE}\n",
    "\n",
    "def translateWord(word, dictionary):\n",
    "    if word in list(dictionary.keys()):\n",
    "        return dictionary[word]\n",
    "    elif word != '':\n",
    "        return '\"' + word + '\"'\n",
    "    return word\n",
    "    \n",
    "def translate(phrase, dicts, direction):\n",
    "    UCLetters = 'ABCDEFGHIJKLMNOPQRSTUVWXYZ'\n",
    "    LCLetters = 'abcdefghijklmnopqrstuvwxyz'\n",
    "    letters = UCLetters + LCLetters\n",
    "    dictionary = dicts[direction]\n",
    "    translation = ''\n",
    "    word = ''\n",
    "    for c in phrase:\n",
    "        if c in letters:\n",
    "            word = word + c\n",
    "        else:\n",
    "            translation = (translation\n",
    "                          + translateWord(word, dictionary) + c)\n",
    "            word = ''\n",
    "    return translation + ' ' + translateWord(word, dictionary)\n",
    "\n",
    "print(translate('I drink good red wine, and eat bread.',\n",
    "                dicts,'English to French'))\n",
    "print(translate('Je bois du vin rouge.',\n",
    "                dicts, 'French to English'))"
   ]
  },
  {
   "cell_type": "markdown",
   "metadata": {},
   "source": [
    "<h3>Dictionaries are mutable</h3>"
   ]
  },
  {
   "cell_type": "code",
   "execution_count": 4,
   "metadata": {
    "collapsed": false
   },
   "outputs": [
    {
     "name": "stdout",
     "output_type": "stream",
     "text": [
      "I wood of wine red. \n"
     ]
    }
   ],
   "source": [
    "#Page 69\n",
    "FtoE['bois'] = 'wood'  # 'bois':'drink'\n",
    "print(translate('Je bois du vin rouge.', dicts, 'French to English'))"
   ]
  },
  {
   "cell_type": "markdown",
   "metadata": {},
   "source": [
    "We <b>add elements</b> to a dictionary by <b>assigning a value to an unused key</b>,"
   ]
  },
  {
   "cell_type": "code",
   "execution_count": 6,
   "metadata": {
    "collapsed": false
   },
   "outputs": [
    {
     "name": "stdout",
     "output_type": "stream",
     "text": [
      "{'Je': 'I', 'blanc': 'white', 'du': 'of', 'et': 'and', 'pain': 'bread', 'mange': 'eat', 'Jean': 'John', 'rouge': 'red', 'amis': 'friends', 'avec': 'with', 'vin': 'wine', 'bois': 'wood'}\n",
      "white\n"
     ]
    }
   ],
   "source": [
    "FtoE['blanc'] = 'white'\n",
    "print(FtoE)\n",
    "print(FtoE['blanc'])"
   ]
  },
  {
   "cell_type": "markdown",
   "metadata": {},
   "source": [
    "Objects of any immutable type, e.g., type tuple, may be used as dictionary keys.\n",
    "Imagine for example using a tuple of the form (flightNumber, day) to represent\n",
    "airline flights. It would then be easy to use such tuples as keys in a dictionary\n",
    "implementing a mapping from flights to arrival times."
   ]
  },
  {
   "cell_type": "code",
   "execution_count": 26,
   "metadata": {
    "collapsed": false
   },
   "outputs": [
    {
     "name": "stdout",
     "output_type": "stream",
     "text": [
      "2013-05-21 10:50:35\n"
     ]
    }
   ],
   "source": [
    "Airline_Flight1=('C1208','2013-05-21')\n",
    "Airline_Flight2=('C1230','2013-05-22')\n",
    "Arrival_Times={Airline_Flight1:'2013-05-21 09:50:35',Airline_Flight2:'2013-05-21 10:50:35'}\n",
    "Airline_Flight2_Arrival_Time=Arrival_Times[Airline_Flight2]\n",
    "print(Airline_Flight2_Arrival_Time)\n"
   ]
  },
  {
   "cell_type": "markdown",
   "metadata": {},
   "source": [
    "### Some common operations on dicts\n",
    "<img src=\"./img/fig510.PNG\"/> "
   ]
  },
  {
   "cell_type": "code",
   "execution_count": 18,
   "metadata": {
    "collapsed": false
   },
   "outputs": [
    {
     "data": {
      "text/plain": [
       "'white'"
      ]
     },
     "execution_count": 18,
     "metadata": {},
     "output_type": "execute_result"
    }
   ],
   "source": [
    "FtoE.get('blanc')"
   ]
  },
  {
   "cell_type": "code",
   "execution_count": 20,
   "metadata": {
    "collapsed": false
   },
   "outputs": [
    {
     "data": {
      "text/plain": [
       "'none'"
      ]
     },
     "execution_count": 20,
     "metadata": {},
     "output_type": "execute_result"
    }
   ],
   "source": [
    "FtoE.get('blanccc','none')"
   ]
  },
  {
   "cell_type": "markdown",
   "metadata": {},
   "source": [
    "Most programming languages do not contain a built-in type that provides a mapping from keys to values.\n",
    "<p><b>Ref: Python Library: 4.10 Mapping Types — dict</b>\n",
    "<p>A mapping object maps hashable values to arbitrary objects. Mappings are mutable objects. There is currently\n",
    "only one standard mapping type, the dictionary"
   ]
  },
  {
   "cell_type": "markdown",
   "metadata": {
    "collapsed": true
   },
   "source": [
    "## Notes:\n",
    "\n",
    "1 Tuple，List，dict\n",
    "\n",
    "2 mutaing:List，dict\n",
    "\n",
    "3 Cloneing\n",
    "\n",
    "4 Higher-order function"
   ]
  }
 ],
 "metadata": {
  "kernelspec": {
   "display_name": "Python 3",
   "language": "python",
   "name": "python3"
  },
  "language_info": {
   "codemirror_mode": {
    "name": "ipython",
    "version": 3
   },
   "file_extension": ".py",
   "mimetype": "text/x-python",
   "name": "python",
   "nbconvert_exporter": "python",
   "pygments_lexer": "ipython3",
   "version": "3.5.1"
  }
 },
 "nbformat": 4,
 "nbformat_minor": 0
}
